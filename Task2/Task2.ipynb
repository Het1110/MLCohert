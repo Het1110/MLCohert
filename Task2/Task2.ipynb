{
 "cells": [
  {
   "cell_type": "code",
   "execution_count": 1,
   "id": "48ff2cb0",
   "metadata": {},
   "outputs": [],
   "source": [
    "import pandas as pd\n",
    "import cv2\n",
    "import os"
   ]
  },
  {
   "cell_type": "code",
   "execution_count": 2,
   "id": "c2627c38",
   "metadata": {},
   "outputs": [
    {
     "name": "stdout",
     "output_type": "stream",
     "text": [
      "cat\n",
      "data_labels.csv\n"
     ]
    }
   ],
   "source": [
    "folder = input()\n",
    "filename = input()\n",
    "folder_path = os.path.join(os.getcwd(), folder)\n",
    "file_path = os.path.join(os.getcwd(), filename)"
   ]
  },
  {
   "cell_type": "code",
   "execution_count": 8,
   "id": "c6c7541c",
   "metadata": {},
   "outputs": [],
   "source": [
    "df = pd.read_csv(filename)\n",
    "dir = 'output'\n",
    "if not (os.path.isdir(dir)):\n",
    "    os.mkdir(dir)\n",
    "for index, row in df.iterrows():\n",
    "    image_name = str(row['name'])\n",
    "    image_name = folder_path + \"\\\\\" + image_name\n",
    "    image_name = cv2.imread(image_name)\n",
    "    pt1 = (row['xmin'], row['ymin'])\n",
    "    pt2 = (row['xmax'], row['ymax'])\n",
    "    color = (255, 0, 0)\n",
    "    thickness = 3\n",
    "    output_img = cv2.rectangle(image_name, pt1, pt2, color, thickness)\n",
    "    output_img = cv2.putText(output_img, row['label'], (row['xmin']-50, row['ymin']+25), cv2.FONT_HERSHEY_TRIPLEX, 1,(167, 86, 176), 3)\n",
    "    name = \"final\" + row['name']\n",
    "    if output_img is not None:\n",
    "        cv2.imwrite(os.path.join(dir,name), output_img)\n",
    "    else:\n",
    "        continue"
   ]
  },
  {
   "cell_type": "code",
   "execution_count": null,
   "id": "5a42d105",
   "metadata": {},
   "outputs": [],
   "source": []
  }
 ],
 "metadata": {
  "kernelspec": {
   "display_name": "Python 3 (ipykernel)",
   "language": "python",
   "name": "python3"
  },
  "language_info": {
   "codemirror_mode": {
    "name": "ipython",
    "version": 3
   },
   "file_extension": ".py",
   "mimetype": "text/x-python",
   "name": "python",
   "nbconvert_exporter": "python",
   "pygments_lexer": "ipython3",
   "version": "3.9.7"
  }
 },
 "nbformat": 4,
 "nbformat_minor": 5
}
