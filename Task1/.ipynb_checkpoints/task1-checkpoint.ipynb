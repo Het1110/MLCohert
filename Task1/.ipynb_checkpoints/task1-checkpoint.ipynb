{
 "cells": [
  {
   "cell_type": "code",
   "execution_count": 2,
   "id": "b34cf948",
   "metadata": {},
   "outputs": [
    {
     "name": "stdout",
     "output_type": "stream",
     "text": [
      "Requirement already satisfied: opencv-python in c:\\programdata\\anaconda3\\lib\\site-packages (4.5.5.62)\n",
      "Requirement already satisfied: numpy>=1.17.3 in c:\\programdata\\anaconda3\\lib\\site-packages (from opencv-python) (1.20.3)\n"
     ]
    }
   ],
   "source": [
    "!pip install opencv-python"
   ]
  },
  {
   "cell_type": "code",
   "execution_count": 1,
   "id": "18b092f0",
   "metadata": {},
   "outputs": [],
   "source": [
    "import cv2\n",
    "import os"
   ]
  },
  {
   "cell_type": "code",
   "execution_count": 61,
   "id": "bfb1cd88",
   "metadata": {
    "scrolled": false
   },
   "outputs": [
    {
     "name": "stdout",
     "output_type": "stream",
     "text": [
      "C:\\Users\\hetmp\\Desktop\\MLCohert\\Task1\\test\n",
      "60\n"
     ]
    }
   ],
   "source": [
    "path = input()\n",
    "ext = ('jpg','jpeg')\n",
    "output_img =[]\n",
    "Idtype = []\n",
    "\n",
    "dir = 'output'\n",
    "os.mkdir(dir)\n",
    "def open_folder(p):\n",
    "    for files in os.listdir(p):\n",
    "        if files.endswith(ext):\n",
    "            path_img = p +\"\\\\\" +files\n",
    "            img = cv2.imread(path_img)\n",
    "            name = \"gray\"+files\n",
    "            img_grayscale = cv2.cvtColor(img, cv2.COLOR_BGR2GRAY)\n",
    "            output_img.append(img_grayscale)\n",
    "            if img_grayscale is not None:\n",
    "                cv2.imwrite(os.path.join(dir, name),img_grayscale)\n",
    "        else:\n",
    "            continue           \n",
    "open_folder(path)\n",
    "print(len(output_img))\n"
   ]
  },
  {
   "cell_type": "code",
   "execution_count": null,
   "id": "1f0f7d17",
   "metadata": {},
   "outputs": [],
   "source": []
  },
  {
   "cell_type": "code",
   "execution_count": null,
   "id": "1f2a7255",
   "metadata": {},
   "outputs": [],
   "source": []
  }
 ],
 "metadata": {
  "kernelspec": {
   "display_name": "Python 3 (ipykernel)",
   "language": "python",
   "name": "python3"
  },
  "language_info": {
   "codemirror_mode": {
    "name": "ipython",
    "version": 3
   },
   "file_extension": ".py",
   "mimetype": "text/x-python",
   "name": "python",
   "nbconvert_exporter": "python",
   "pygments_lexer": "ipython3",
   "version": "3.9.7"
  }
 },
 "nbformat": 4,
 "nbformat_minor": 5
}
